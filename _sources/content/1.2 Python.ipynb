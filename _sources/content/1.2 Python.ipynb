{
 "cells": [
  {
   "cell_type": "markdown",
   "metadata": {},
   "source": [
    "# Empezando con Python"
   ]
  },
  {
   "cell_type": "markdown",
   "metadata": {},
   "source": [
    "## Acerca de Python\n",
    "\n",
    "Python es un lenguaje de prongramación de propósito general muy poderoso y flexible, a la vez que sencillo y fácil de aprender. Es un lenguaje de alto nivel, que permite procesar fácilmente todo tipo de estructuras de datos, es un lenguaje de programación que día a día va ganando mayor [popularidad](https://www.statista.com/statistics/793628/worldwide-developer-survey-most-used-languages/), además, se desarrolla bajo una licencia de Open Source, por lo cual se puede usar y distribuir libremente, incluso para uso comercial\n",
    "\n",
    "Es usado para:\n",
    "\n",
    "- Desarrollo web\n",
    "- Desarrollo de software\n",
    "- Matemáticas\n",
    "- Scripts\n",
    "\n",
    "<img src=\"local/imgs/python_logo.png\"/>\n",
    "\n",
    "## ¿Qué puede hacer Python?\n",
    "\n",
    "-  Se puede utilizar en un servidor para crear aplicaciones web.\n",
    "-  Se puede utilizar junto con el software para crear flujos de trabajo.\n",
    "-  Puede conectarse a sistemas de bases de datos. También puede leer y modificar archivos.\n",
    "-  Se puede utilizar para manejar big data y realizar matemáticas complejas.\n",
    "-  Se puede utilizar para la creación rápida de prototipos o para el desarrollo de software listo para la producción.\n",
    "\n",
    "## Sintaxis de Python en comparación con otros lenguajes de programación\n",
    "\n",
    "- Fue diseñado para la legibilidad, y tiene algunas similitudes con el idioma inglés con influencia de las matemáticas.\n",
    "- Usa nuevas líneas para completar un comando, a diferencia de otros lenguajes de programación que a menudo usan punto y coma o paréntesis.\n",
    "- Se basa en la identación, utilizando espacios en blanco, para definir el alcance; como el alcance de bucles, funciones y clases. Otros lenguajes de programación a menudo usan corchetes (`{}`) para este propósito.\n",
    "\n",
    "```{note}\n",
    "Existen dos grandes versiones de Pyhton que son la 2.x y la 3.x, este curso de desarrollará sobre esta última versión ya que esta todavía continua en desarrollo constante, mientras que la versión 2.x llegó a su fin en el año 2020, por lo cual no habrá más actualizaciones.\n",
    "```"
   ]
  },
  {
   "cell_type": "markdown",
   "metadata": {},
   "source": [
    "## Nuestro primer código"
   ]
  },
  {
   "cell_type": "markdown",
   "metadata": {},
   "source": [
    "\"¡Hola, mundo!\" o \"Hello, world!\" es un programa que muestra el texto \"¡Hola, mundo!\" en un dispositivo de visualización, como es la pantalla de nuestro monitor, este suele ser el programa usado como introducción al estudio de lenguaje de programación por su [historia](https://es.wikipedia.org/wiki/Hola_mundo)."
   ]
  },
  {
   "cell_type": "code",
   "execution_count": 2,
   "metadata": {},
   "outputs": [
    {
     "name": "stdout",
     "output_type": "stream",
     "text": [
      "Hello, world!\n"
     ]
    }
   ],
   "source": [
    "print(\"Hello, world!\")"
   ]
  },
  {
   "cell_type": "markdown",
   "metadata": {},
   "source": [
    "Como se puede observar en la celda anterior, con el comando `print()` mostramos en pantalla lo que le especificamos dentro de los paréntesis, en este caso simplemente se está mostrando `Hello, world!`"
   ]
  },
  {
   "cell_type": "markdown",
   "metadata": {},
   "source": [
    "```{note}\n",
    "Las comillas en python son para representar palabras literales\n",
    "```"
   ]
  }
 ],
 "metadata": {
  "kernelspec": {
   "display_name": "Python 3.9.12 ('base')",
   "language": "python",
   "name": "python3"
  },
  "language_info": {
   "codemirror_mode": {
    "name": "ipython",
    "version": 3
   },
   "file_extension": ".py",
   "mimetype": "text/x-python",
   "name": "python",
   "nbconvert_exporter": "python",
   "pygments_lexer": "ipython3",
   "version": "3.9.12"
  },
  "orig_nbformat": 4,
  "vscode": {
   "interpreter": {
    "hash": "4ea9071744ae0963820ecdfe285aa7f09c6d3665a6b4ee8f59c95aa319514e37"
   }
  }
 },
 "nbformat": 4,
 "nbformat_minor": 2
}
