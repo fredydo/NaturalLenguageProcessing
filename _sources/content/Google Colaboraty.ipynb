{
 "cells": [
  {
   "cell_type": "markdown",
   "metadata": {},
   "source": [
    "# Google Colaboraty"
   ]
  },
  {
   "cell_type": "markdown",
   "metadata": {},
   "source": [
    "## ¿Qué es Google Colaboraty?\n",
    "\n",
    "[Google Colaboraty](https://colab.research.google.com/notebooks/intro.ipynb) o también conocido como Google Colab o simplemente Colab es una herramienta gratuita desarrollado y alojado por Google para fomentar diferentes desarrollos de programación, este es muy similar a los famosos [notebooks de jupyter](https://jupyter.org/)\n",
    "\n",
    "Google Colab nos permite trabajar con Notebooks y el lenguaje de programación Python y a su vez permite almacenar todos los Notebooks y trabajar con datos que se tengan almacenados en el Drive y compartirlos con el equipo de trabajo.\n",
    "\n",
    "Con Google Colab tendríamos las herramientas necesarios para poder desarrollar el curso y explorar las diferentes clases cuantas veces queramos, sin necesidad de organizar un entorno de trabajo en nuestros computadores, solo es necesario una cuenta de Google Drive y tener una conexión a internet.\n",
    "\n"
   ]
  },
  {
   "cell_type": "markdown",
   "metadata": {},
   "source": [
    "## Primeros pasos\n",
    "\n",
    "El documento que estás leyendo es una web estática, pero si se abre desde un entorno interactivo como los notebooks de jupyter o google colab nos permite escribir y ejecutar código.\n",
    "\n",
    "Por ejemplo, a continuación se muestra una **celda de código** con una breve secuencia de comandos de Python que calculan un valor, lo almacena en una variable y mostramos el resultado"
   ]
  },
  {
   "cell_type": "code",
   "execution_count": 9,
   "metadata": {},
   "outputs": [
    {
     "data": {
      "text/plain": [
       "86400"
      ]
     },
     "execution_count": 9,
     "metadata": {},
     "output_type": "execute_result"
    }
   ],
   "source": [
    "segundos_en_un_dia = 24 * 60 * 60\n",
    "segundos_en_un_dia"
   ]
  },
  {
   "cell_type": "markdown",
   "metadata": {},
   "source": [
    "Si se desea ejecutar el código de la celda anterior, haz clic para seleccionarlo y pulsa el botón de reproducir situado a la izquierda del código o usando la combinación de teclas \"Ctrl + Enter\". Para editar el código, solo tienes que hacer clic en la celda.\n",
    "\n",
    "Las variables que definas en una celda se pueden usar después en otras celdas:"
   ]
  },
  {
   "cell_type": "code",
   "execution_count": 10,
   "metadata": {},
   "outputs": [
    {
     "data": {
      "text/plain": [
       "604800"
      ]
     },
     "execution_count": 10,
     "metadata": {},
     "output_type": "execute_result"
    }
   ],
   "source": [
    "segundos_en_una_semana = 7 * segundos_en_un_dia\n",
    "segundos_en_una_semana"
   ]
  },
  {
   "cell_type": "markdown",
   "metadata": {},
   "source": [
    "Aunque veamos que en una celda sólo esté parte del código las variables que se llegan a almacenar en una celda cobran importancia en las celdas futuras si se llegan llamar dichas variables"
   ]
  },
  {
   "cell_type": "markdown",
   "metadata": {},
   "source": [
    "Los cuadernos de Colab te permiten combinar **código ejecutable** y **texto enriquecido** en un mismo documento, además de **imágenes**, **HTML**, **LaTeX** y mucho más. Los cuadernos que creas en Colab se almacenan en tu cuenta de Google Drive. Puedes compartir tus cuadernos de Colab fácilmente con compañeros de trabajo o amigos, lo que les permite comentarlos o incluso editarlos. Consulta más información en [Información general sobre Colab](https://colab.research.google.com/notebooks/basic_features_overview.ipynb). Para crear un cuaderno de Colab, puedes usar el menú Archivo que aparece arriba o bien acceder al enlace para [crear un cuaderno de Colab](https://colab.research.google.com/#create=true).\n",
    "\n",
    "Los cuadernos de Colab son cuadernos de Jupyter alojados en Colab. Para obtener más información sobre el proyecto Jupyter, visita [jupyter.org](https://jupyter.org/)."
   ]
  },
  {
   "cell_type": "markdown",
   "metadata": {},
   "source": [
    "Para correr los diferentes notebooks del cursobasta con pasar el mouse en el ícono de la nave en la esquina superior derecha y dar \n",
    "click en el ícono de colab que se despliega \n",
    "\n",
    "<img src=\"local/imgs/colab.png\"/>"
   ]
  }
 ],
 "metadata": {
  "kernelspec": {
   "display_name": "Python 3.9.12 ('base')",
   "language": "python",
   "name": "python3"
  },
  "language_info": {
   "codemirror_mode": {
    "name": "ipython",
    "version": 3
   },
   "file_extension": ".py",
   "mimetype": "text/x-python",
   "name": "python",
   "nbconvert_exporter": "python",
   "pygments_lexer": "ipython3",
   "version": "3.9.12"
  },
  "orig_nbformat": 4,
  "vscode": {
   "interpreter": {
    "hash": "4ea9071744ae0963820ecdfe285aa7f09c6d3665a6b4ee8f59c95aa319514e37"
   }
  }
 },
 "nbformat": 4,
 "nbformat_minor": 2
}
