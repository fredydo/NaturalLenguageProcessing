{
 "cells": [
  {
   "cell_type": "markdown",
   "metadata": {},
   "source": [
    "# Sintáxis de Python\n",
    "\n",
    "La sintáxis, en la gramática, es aquella que estudia la forma en que se combinan y relacionan las palabras para formar oraciones las cuales dan un significado o un sentido, y no es muy alejado de la sintáxis de programación, las cuales son las reglas con las que debemos escribir las líneas de código para que la máquina pueda entender nuestras ideas y ejecutarlas, como con el ejemplo mostrado anterior con el `\"Hello, world!\"`, cuando se usa el comando `print()` le estamos diciendo a la máquina que queremos que muestre algo en pantalla y el mensaje que queremos mostrar es `\"Hello, world!\"`, por lo que usando el comando `print(\"Hello, world!)` la máquina interpreta lo que estamos escribiendo y ejecuta la orden, si no respetamos estas normas el computador no nos entendería.\n",
    "\n",
    "Por ejemplo, si escribimos mal el código `print(\"Hello, world!\")` el computador intentará interpretar el mensaje, pero este no será capaz de entenderlo, no ejecutará la acción y nos reportará un error de sintáxis (`SyntaxError`)"
   ]
  },
  {
   "cell_type": "code",
   "execution_count": 4,
   "metadata": {},
   "outputs": [
    {
     "ename": "SyntaxError",
     "evalue": "invalid syntax (4206259929.py, line 1)",
     "output_type": "error",
     "traceback": [
      "\u001b[1;36m  Input \u001b[1;32mIn [4]\u001b[1;36m\u001b[0m\n\u001b[1;33m    print(Hello, world!)\u001b[0m\n\u001b[1;37m                      ^\u001b[0m\n\u001b[1;31mSyntaxError\u001b[0m\u001b[1;31m:\u001b[0m invalid syntax\n"
     ]
    }
   ],
   "source": [
    "print(Hello, world!)"
   ]
  },
  {
   "cell_type": "markdown",
   "metadata": {},
   "source": [
    "```{note}\n",
    "No temas de los errores que te muestre python!, hay que leer los tipos de errores que nos enseña y saber en qué estamos fallando, donde y así corregirlo\n",
    "```"
   ]
  },
  {
   "cell_type": "markdown",
   "metadata": {},
   "source": [
    "## Comentarios\n",
    "\n",
    "Los comentarios son simplemente una forma de dejar mensajes a uno mismo o a los compañeros de trabajo sobre el código, que nos pueden ayudar a tener una mejor comprensión de lo que hace el código para futuras revisiones, son herramientas para nosotros, cuando python ve los comentarios este simplemente los ignora, no hace nada con estos"
   ]
  },
  {
   "cell_type": "markdown",
   "metadata": {},
   "source": [
    "### Comentario de una línea\n",
    "\n",
    "Las líneas que empiecen con `#` python simplemente las ignorará, se usan para escribir comentarios de una sola línea"
   ]
  },
  {
   "cell_type": "code",
   "execution_count": 5,
   "metadata": {},
   "outputs": [
    {
     "name": "stdout",
     "output_type": "stream",
     "text": [
      "Hello, world!\n"
     ]
    }
   ],
   "source": [
    "# Este es un comentario\n",
    "print(\"Hello, world!\")"
   ]
  },
  {
   "cell_type": "markdown",
   "metadata": {},
   "source": [
    "Los comentarios también se pueden colocar al final de una línea y python ignorará lo que encuentre después del símbolo `#`"
   ]
  },
  {
   "cell_type": "code",
   "execution_count": 6,
   "metadata": {},
   "outputs": [
    {
     "name": "stdout",
     "output_type": "stream",
     "text": [
      "Hello, world!\n"
     ]
    }
   ],
   "source": [
    "print(\"Hello, world!\") # Este es un comentario"
   ]
  },
  {
   "cell_type": "markdown",
   "metadata": {},
   "source": [
    "Un comentario no tiene que ser un texto que explique código, también se puede usar para evitar que python ejecute una línea específica"
   ]
  },
  {
   "cell_type": "code",
   "execution_count": 8,
   "metadata": {},
   "outputs": [
    {
     "name": "stdout",
     "output_type": "stream",
     "text": [
      "¡Hola, mundo!\n"
     ]
    }
   ],
   "source": [
    "# print(\"Hello, world!\")\n",
    "print(\"¡Hola, mundo!\")\n"
   ]
  },
  {
   "cell_type": "markdown",
   "metadata": {},
   "source": [
    "### Comentarios multilínea"
   ]
  },
  {
   "cell_type": "markdown",
   "metadata": {},
   "source": []
  }
 ],
 "metadata": {
  "kernelspec": {
   "display_name": "Python 3.9.12 ('base')",
   "language": "python",
   "name": "python3"
  },
  "language_info": {
   "codemirror_mode": {
    "name": "ipython",
    "version": 3
   },
   "file_extension": ".py",
   "mimetype": "text/x-python",
   "name": "python",
   "nbconvert_exporter": "python",
   "pygments_lexer": "ipython3",
   "version": "3.9.12"
  },
  "orig_nbformat": 4,
  "vscode": {
   "interpreter": {
    "hash": "4ea9071744ae0963820ecdfe285aa7f09c6d3665a6b4ee8f59c95aa319514e37"
   }
  }
 },
 "nbformat": 4,
 "nbformat_minor": 2
}
